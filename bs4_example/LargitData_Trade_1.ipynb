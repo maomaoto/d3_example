{
 "cells": [
  {
   "cell_type": "code",
   "execution_count": 18,
   "metadata": {
    "collapsed": false,
    "scrolled": true
   },
   "outputs": [],
   "source": [
    "# 如何抓取三大法人買賣金額統計表\n",
    "import requests\n",
    "res = requests.get('http://www.twse.com.tw/ch/trading/fund/BFI82U/BFI82U.php?report1=day&input_date=105%2F01%2F12&mSubmit=%ACd%B8%DF&yr=2016&w_date=20160111&m_date=20160101')\n",
    "res.encoding = 'big5'\n",
    "#print res.text"
   ]
  },
  {
   "cell_type": "code",
   "execution_count": 17,
   "metadata": {
    "collapsed": false,
    "scrolled": false
   },
   "outputs": [
    {
     "name": "stdout",
     "output_type": "stream",
     "text": [
      "自營商(自行買賣)\n",
      "1,026,801,020\n",
      "1,581,378,505\n",
      "-554,577,485\n",
      "自營商(避險)\n",
      "4,880,014,670\n",
      "6,405,478,792\n",
      "-1,525,464,122\n",
      "投信\n",
      "1,780,218,900\n",
      "1,055,485,865\n",
      "724,733,035\n",
      "外資及陸資\n",
      "22,814,489,457\n",
      "26,000,602,857\n",
      "-3,186,113,400\n",
      "合計\n",
      "30,501,524,047\n",
      "35,042,946,019\n",
      "-4,541,421,972\n"
     ]
    }
   ],
   "source": [
    "from bs4 import BeautifulSoup\n",
    "soup = BeautifulSoup(res.text, 'lxml')\n",
    "for tr in soup.select('.board_trad tr')[2:]:\n",
    "    for td in tr.select('td'):\n",
    "        print(td.text)\n"
   ]
  }
 ],
 "metadata": {
  "kernelspec": {
   "display_name": "Python 2",
   "language": "python",
   "name": "python2"
  },
  "language_info": {
   "codemirror_mode": {
    "name": "ipython",
    "version": 2
   },
   "file_extension": ".py",
   "mimetype": "text/x-python",
   "name": "python",
   "nbconvert_exporter": "python",
   "pygments_lexer": "ipython2",
   "version": "2.7.10"
  }
 },
 "nbformat": 4,
 "nbformat_minor": 0
}
