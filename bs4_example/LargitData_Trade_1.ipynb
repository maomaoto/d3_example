{
 "cells": [
  {
   "cell_type": "code",
   "execution_count": 18,
   "metadata": {
    "collapsed": false,
    "scrolled": true
   },
   "outputs": [],
   "source": [
    "# 如何抓取三大法人買賣金額統計表\n",
    "import requests\n",
    "res = requests.get('http://www.twse.com.tw/ch/trading/fund/BFI82U/BFI82U.php?report1=day&input_date=105%2F01%2F12&mSubmit=%ACd%B8%DF&yr=2016&w_date=20160111&m_date=20160101')\n",
    "res.encoding = 'big5'\n",
    "#print res.text"
   ]
  },
  {
   "cell_type": "code",
   "execution_count": 17,
   "metadata": {
    "collapsed": false,
    "scrolled": false
   },
   "outputs": [
    {
     "name": "stdout",
     "output_type": "stream",
     "text": [
      "自營商(自行買賣)\n",
      "1,026,801,020\n",
      "1,581,378,505\n",
      "-554,577,485\n",
      "自營商(避險)\n",
      "4,880,014,670\n",
      "6,405,478,792\n",
      "-1,525,464,122\n",
      "投信\n",
      "1,780,218,900\n",
      "1,055,485,865\n",
      "724,733,035\n",
      "外資及陸資\n",
      "22,814,489,457\n",
      "26,000,602,857\n",
      "-3,186,113,400\n",
      "合計\n",
      "30,501,524,047\n",
      "35,042,946,019\n",
      "-4,541,421,972\n"
     ]
    }
   ],
   "source": [
    "from bs4 import BeautifulSoup\n",
    "soup = BeautifulSoup(res.text, 'lxml')\n",
    "for tr in soup.select('.board_trad tr')[2:]:\n",
    "    for td in tr.select('td'):\n",
    "        print(td.text)\n"
   ]
  },
  {
   "cell_type": "code",
   "execution_count": 13,
   "metadata": {
    "collapsed": false
   },
   "outputs": [
    {
     "name": "stdout",
     "output_type": "stream",
     "text": [
      "105-01-13\n",
      "105-01-12\n",
      "105-01-11\n",
      "105-01-10\n",
      "105-01-09\n",
      "105-01-08\n",
      "105-01-07\n",
      "105-01-06\n",
      "105-01-05\n"
     ]
    }
   ],
   "source": [
    "# 產生日期序列\n",
    "from datetime import date, timedelta\n",
    "\n",
    "today = date.today()\n",
    "for i in range(1, 10):\n",
    "    today = today + timedelta(days = -1)\n",
    "    dayary = str(today).split('-')\n",
    "    print '-'.join([str(int(dayary[0]) - 1911), dayary[1], dayary[2]])"
   ]
  },
  {
   "cell_type": "code",
   "execution_count": 45,
   "metadata": {
    "collapsed": false
   },
   "outputs": [
    {
     "name": "stdout",
     "output_type": "stream",
     "text": [
      "自營商(自行買賣) 654,724,190 1,179,338,200 -524,614,010 2016-01-13\n",
      "自營商(避險) 4,592,655,640 5,339,293,473 -746,637,833 2016-01-13\n",
      "投信 763,855,500 788,404,135 -24,548,635 2016-01-13\n",
      "外資及陸資 27,017,823,458 25,868,276,133 1,149,547,325 2016-01-13\n",
      "合計 33,029,058,788 33,175,311,941 -146,253,153 2016-01-13\n"
     ]
    }
   ],
   "source": [
    "# 如何抓取三大法人買賣金額統計表(多日)\n",
    "import requests\n",
    "from bs4 import BeautifulSoup\n",
    "from datetime import date, timedelta\n",
    "\n",
    "url = 'http://www.twse.com.tw/ch/trading/fund/BFI82U/BFI82U.php?report1=day&input_date={0}&mSubmit=%ACd%B8%DF&yr=2016&w_date=20160111&m_date=20160101'\n",
    "\n",
    "def money_conversion(input_ele):\n",
    "    return int(''.join(input_ele.split(',')))\n",
    "\n",
    "def getTradeValue(today):\n",
    "    dayary = str(today).split('-')\n",
    "    dt = '%2F'.join([str(int(dayary[0]) - 1911), dayary[1], dayary[2]])\n",
    "    res = requests.get(url.format(dt))\n",
    "    res.encoding = 'big5'\n",
    "    #print(res.text)\n",
    "    soup = BeautifulSoup(res.text, 'html5')\n",
    "    for tr in soup.select('.board_trad tr')[2:]:\n",
    "        td  = tr.select('td')\n",
    "        print(u\"{0} {1} {2} {3} {4}\".format(td[0].text, td[1].text, td[2].text, td[3].text, today)) # unicode issue\n",
    "\n",
    "\n",
    "\n",
    "today = date.today()\n",
    "for i in range(1, 2):\n",
    "    today = today + timedelta(days = -1)\n",
    "    getTradeValue(today)\n"
   ]
  },
  {
   "cell_type": "code",
   "execution_count": 3,
   "metadata": {
    "collapsed": false
   },
   "outputs": [
    {
     "name": "stdout",
     "output_type": "stream",
     "text": [
      "(1, u'foreign', 20, 30, -10, u'2016-01-13')\n"
     ]
    }
   ],
   "source": [
    "import sqlite3 as lite\n",
    "con = lite.connect('finance.sqlite')\n",
    "cur = con.cursor()\n",
    "cur.execute(\"select * from InvestorTradingValue\")\n",
    "ret = cur.fetchone()\n",
    "print ret\n",
    "#cur.execute(\"insert into InvestorTradingValue(item, total_buy, total_sell, difference, date) values('foreign', 20, 30, -10, '2016-01-13')\")\n",
    "#con.commit()\n",
    "con.close()"
   ]
  },
  {
   "cell_type": "code",
   "execution_count": 10,
   "metadata": {
    "collapsed": false,
    "scrolled": true
   },
   "outputs": [],
   "source": [
    "# 抓取個股日本益比csv\n",
    "import requests\n",
    "from bs4 import BeautifulSoup\n",
    "import base64\n",
    "import shutil\n",
    "\n",
    "res = requests.get('http://www.twse.com.tw/ch/trading/exchange/BWIBBU/BWIBBU_d.php')\n",
    "\n",
    "res.encoding = 'big5'\n",
    "#print(res.text)\n",
    "soup = BeautifulSoup(res.text, 'html5')  # use html5lib parser, looks like html is not formatted, lxml parser will lost some nodes\n",
    "\n",
    "payload = {}\n",
    "\n",
    "for inp in soup.select('input'):\n",
    "    if 'hidden' in inp.get('type'):\n",
    "        payload[inp.get('name')] = base64.b64encode(inp.get('value').encode('utf-8'))\n",
    "\n",
    "res2 = requests.post('http://www.twse.com.tw/ch/trading/exchange/BWIBBU/BWIBBU_print.php?language=ch&save=csv', data = payload, stream = True)\n",
    "\n",
    "f = open('export.csv', 'wb')\n",
    "shutil.copyfileobj(res2.raw, f)\n",
    "f.close()\n"
   ]
  }
 ],
 "metadata": {
  "kernelspec": {
   "display_name": "Python 2",
   "language": "python",
   "name": "python2"
  },
  "language_info": {
   "codemirror_mode": {
    "name": "ipython",
    "version": 2
   },
   "file_extension": ".py",
   "mimetype": "text/x-python",
   "name": "python",
   "nbconvert_exporter": "python",
   "pygments_lexer": "ipython2",
   "version": "2.7.5"
  }
 },
 "nbformat": 4,
 "nbformat_minor": 0
}
