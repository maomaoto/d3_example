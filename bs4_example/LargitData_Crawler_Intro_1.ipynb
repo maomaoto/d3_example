{
 "cells": [
  {
   "cell_type": "code",
   "execution_count": 7,
   "metadata": {
    "collapsed": false
   },
   "outputs": [
    {
     "name": "stdout",
     "output_type": "stream",
     "text": [
      "6\n"
     ]
    }
   ],
   "source": [
    "i = 5\n",
    "i += 1\n",
    "print(i)"
   ]
  },
  {
   "cell_type": "code",
   "execution_count": 8,
   "metadata": {
    "collapsed": false
   },
   "outputs": [
    {
     "name": "stdout",
     "output_type": "stream",
     "text": [
      "Populating the interactive namespace from numpy and matplotlib\n"
     ]
    }
   ],
   "source": [
    "%pylab inline"
   ]
  },
  {
   "cell_type": "code",
   "execution_count": 13,
   "metadata": {
    "collapsed": false
   },
   "outputs": [
    {
     "data": {
      "text/plain": [
       "[<matplotlib.lines.Line2D at 0x5efed30>]"
      ]
     },
     "execution_count": 13,
     "metadata": {},
     "output_type": "execute_result"
    },
    {
     "data": {
      "image/png": "[encoded data removed]",
      "text/plain": [
       "<matplotlib.figure.Figure at 0x5b73150>"
      ]
     },
     "metadata": {},
     "output_type": "display_data"
    }
   ],
   "source": [
    "import random\n",
    "plot(range(1,10), [random.randint(1,10) for i in range(1,10)])"
   ]
  },
  {
   "cell_type": "code",
   "execution_count": 27,
   "metadata": {
    "collapsed": false
   },
   "outputs": [],
   "source": [
    "import requests\n",
    "res = requests.get(\"https://tw.taobao.com/search/search.htm?_ksTS=1452484651694_101&spm=a213z.1224559.20141209.1&_input_charset=utf-8&navigator=all&q_goods_status=0&json=on&q=%E6%99%BA%E8%83%BD%E6%89%8B%E7%8E%AF&callback=__jsonp_cb&cna=4QGYDC890A8CAdyAR6cCbg6s&abtest=_AB-LR492-LR501-LR517-LR895-PR492-PR501-PV517_2373-PV895_2352\")\n",
    "#print(res.text)"
   ]
  },
  {
   "cell_type": "code",
   "execution_count": 34,
   "metadata": {
    "collapsed": false
   },
   "outputs": [],
   "source": [
    "# 高鐵時刻\n",
    "import requests\n",
    "payload = {\n",
    "    \"StartStation\":\"977abb69-413a-4ccf-a109-0272c24fd490\",\n",
    "    \"EndStation\":\"3301e395-46b8-47aa-aa37-139e15708779\",\n",
    "    \"SearchDate\":\"2016/01/14\",\n",
    "    \"SearchTime\":\"12:30\",\n",
    "    \"SearchWay\":\"DepartureInMandarin\"\n",
    "}\n",
    "res = requests.post(\"https://www.thsrc.com.tw/tw/TimeTable/SearchResult\", data = payload, verify=False)\n",
    "#print(res.text)"
   ]
  },
  {
   "cell_type": "code",
   "execution_count": 38,
   "metadata": {
    "collapsed": false
   },
   "outputs": [],
   "source": [
    "import requests\n",
    "res = requests.get(\"https://www.microsoft.com/en-us/download/details.aspx?id=44266\")\n",
    "#print(res.text)"
   ]
  },
  {
   "cell_type": "code",
   "execution_count": 46,
   "metadata": {
    "collapsed": false
   },
   "outputs": [
    {
     "name": "stdout",
     "output_type": "stream",
     "text": [
      "萝卜丸子\n",
      "5.0分\n",
      "1位评价\n",
      "598263\n",
      "523次\n",
      "6次\n"
     ]
    }
   ],
   "source": [
    "# 抓取心食譜內容\n",
    "import requests\n",
    "from bs4 import BeautifulSoup\n",
    "res = requests.get(\"http://www.xinshipu.com/zuofa/598263\")\n",
    "soup = BeautifulSoup(res.text, 'lxml')\n",
    "reup = soup.select(\".re-up\")[0]\n",
    "print(reup.select('.font18.no-overflow')[0].text)\n",
    "print(reup.select('.font16.ml10.col')[0].text)\n",
    "print(reup.select('.font16.ml10.col')[1].text)\n",
    "#print(reup.select('.cg2.mt12')[0])\n",
    "print(reup.select('.cg2.mt12 span:nth-of-type(2)')[0].text)\n",
    "print(reup.select('.cg2.mt12 span:nth-of-type(4)')[0].text)\n",
    "print(reup.select('.cg2.mt12 span:nth-of-type(6)')[0].text)\n",
    "#print(reup)"
   ]
  },
  {
   "cell_type": "code",
   "execution_count": 52,
   "metadata": {
    "collapsed": false
   },
   "outputs": [
    {
     "name": "stdout",
     "output_type": "stream",
     "text": [
      "<div class=\"item-price\">\n",
      "<div class=\"original-price\"> 2,498 萬</div> <div class=\"price\"><span class=\"price-num\">2,388</span> 萬</div>\n",
      "<div class=\"sub-price\"></div>\n",
      "<a class=\"view-map-btn\" ga-buy-search=\"\" ga-cat=\"buy_list\" ga-event=\"buy_list_click\" ga-label=\"buy_list_streetmap\" href=\"\">地圖街景</a>\n",
      "<a class=\"save-not-login-btn save-item-btn\" data-caseid=\"f9f7bd85-e120-4ff8-8376-8eaa5a14f558\" data-favo=\"\" data-favo-pop=\"\" ga-buy-search=\"\" ga-cat=\"buy_list\" ga-event=\"buy_list_click\" ga-label=\"buy_list_fav\" href=\"\">收藏</a>\n",
      "</div>\n"
     ]
    }
   ],
   "source": [
    "# 永慶房屋 User Agent\n",
    "import requests\n",
    "from bs4 import BeautifulSoup\n",
    "head = {'User-Agent': 'Mozilla/5.0 (Windows NT 6.1; WOW64; rv:43.0) Gecko/20100101 Firefox/43.0'}\n",
    "res = requests.get('http://buy.yungching.com.tw/region/', headers = head)\n",
    "#print(res.text)\n",
    "soup = BeautifulSoup(res.text)\n",
    "#print(soup.select('.item-price')[0])"
   ]
  },
  {
   "cell_type": "code",
   "execution_count": 61,
   "metadata": {
    "collapsed": false
   },
   "outputs": [
    {
     "name": "stdout",
     "output_type": "stream",
     "text": [
      "松城雙併兩房　台北市松山區光復北路\n",
      "2,388 萬\n",
      "捷運公園大套房　台北市南港區成福路\n",
      "1,000 萬\n",
      "大降7佰電梯3房　台北市士林區德行東路\n",
      "2,680 萬\n",
      "天玉街社區四房　台北市士林區天玉街\n",
      "2,988 萬\n",
      "敦南謙回高樓景觀　台北市大安區基隆路二段\n",
      "11,690 萬\n",
      "天母使館四房車位　台北市北投區天母西路\n",
      "7,800 萬\n",
      "新生綠蔭美五房　台北市大安區新生南路一段\n",
      "3,980 萬\n",
      "景觀電梯兩房車位　台北市文山區萬壽路\n",
      "1,250 萬\n",
      "士東精美2樓3房　台北市士林區中山北路六段\n",
      "1,788 萬\n",
      "遠企邊間一樓　台北市大安區和平東路三段\n",
      "4,200 萬\n",
      "文學名住四房車位　台北市文山區木柵路一段\n",
      "3,198 萬\n",
      "捷運景觀兩房車位　台北市文山區木柵路四段\n",
      "1,680 萬\n",
      "降價方正靜巷美寓　台北市士林區福國路\n",
      "2,360 萬\n",
      "士林庭院一樓　台北市士林區延平北路六段\n",
      "2,580 萬\n",
      "隆美富邑樹海景觀　台北市北投區公館路\n",
      "1,480 萬\n",
      "信義松隆古典川普　台北市信義區松隆路\n",
      "7,988 萬\n",
      "市中心電梯大套房　台北市文山區木柵路二段\n",
      "499 萬\n",
      "建築年鑑高樓3房　台北市文山區木柵路二段\n",
      "2,220 萬\n",
      "世界山莊景觀4房　台北市文山區和平東路四段\n",
      "4,700 萬\n",
      "急售捷運三房車位　台北市中正區臨沂街\n",
      "3,350 萬\n"
     ]
    }
   ],
   "source": [
    "#print(soup)\n",
    "#print(soup.select('.price-num'))\n",
    "for house in soup.select('.m-list-item'):\n",
    "    print(house.select('.item-title.ga_click_trace')[0].text)\n",
    "    print(house.select('.price')[0].text)"
   ]
  },
  {
   "cell_type": "code",
   "execution_count": 88,
   "metadata": {
    "collapsed": false
   },
   "outputs": [
    {
     "name": "stdout",
     "output_type": "stream",
     "text": [
      "[請益] 請問衛普品保部門工作氛圍如何？  1/11 miller0822\n",
      "[請益] 等面試或是拿offer?  1/11 fujicat\n",
      "(本文已被刪除) [njp2942u4]  1/11 -\n",
      "[請益] 法務專業考試如何準備？  1/11 peterpan999\n",
      "[請益] 通過美國律師考試申請派美國的業務工作  1/11 peterpan999\n",
      "[請益] 代PO 年後換工作 封測PE三個月  1/11 doris50619\n",
      "[請益] 台灣有什麼物聯網相關的產業嗎???  1/11 Qoo2222\n",
      "[面試] 聯電品質系統工程師  1/11 mnbvcxza110\n",
      "[討論] gg設備  1/11 kensence\n",
      "[面試] 致茂測量儀器事業部PM  1/11 esc54\n",
      "[請益] 外派國家是否能增加自己競爭力和身價?  1/11 jameex\n",
      "[請益] 待業時先去當作業員？  1/11 peterpan999\n",
      "[請益] 尚未畢業的學歷要填嗎?  1/11 droptear\n",
      "[請益] 奇景 Physical design工程師  1/11 escfhnku\n",
      "律師為您解惑－線上勞動法免費諮詢即日為勞工 …  5/26 pzs\n",
      "[公告] Tech_Job板板規 2014.03.01  3/01 mmkntust\n",
      "[公告] 置底 檢舉/推薦 文章  9/07 mmkntust\n",
      "[公告] 轉錄發表黨團政策性文章相關規定 10/26 mmkntust\n"
     ]
    }
   ],
   "source": [
    "# ptt\n",
    "import requests\n",
    "from bs4 import BeautifulSoup\n",
    "res = requests.get('https://www.ptt.cc/bbs/Tech_Job/index.html')\n",
    "soup = BeautifulSoup(res.text)\n",
    "for entry in soup.select('.r-ent'):\n",
    "    print('{0} {1} {2}'.format(entry.select('.title')[0].text.encode('utf8').strip(), entry.select('.date')[0].text, entry.select('.author')[0].text))"
   ]
  },
  {
   "cell_type": "code",
   "execution_count": 93,
   "metadata": {
    "collapsed": false
   },
   "outputs": [
    {
     "name": "stdout",
     "output_type": "stream",
     "text": [
      "Re: [新聞] 滿75歲 明年起只能領兩年短期駕照  1/11 snbftmb\n",
      "Re: [新聞] 布丁三姊弟今請假未上學　布丁續出貨  1/11 mirage2000\n",
      "Re: [問卦] 柯P雙城計劃造假可能性?  1/11 gn00399745\n",
      "[問卦] 肥宅假裝彈吉他有加分嗎？  1/11 downstairs\n",
      "一個年輕病患的啟發--訪客也可幫助醫療決策  1/11 SkyFantasy\n",
      "[新聞] 大陸政經對賭 想熔斷哪個「趙家人」？  1/11 airflysony\n",
      "[問卦] 怎樣一句話激怒島民？  1/11 vvvvSSSS\n",
      "[公告] 八卦板板規(2015.12.01) 12/01 seabox\n",
      "[公告] 選舉前發文注意事項  1/05 blaz\n",
      "Fw: [爆卦] 阻止馬英九暴衝修改行政命令-行動開始!  1/10 selina0508\n",
      "[爆卦] 懶趴震懶人包（非布丁事件懶人包）  1/10 n810516\n",
      "Re: [問卦] 哪個藝人會先出來譴責？(14:40新增採訪影片)  1/11 bonela\n"
     ]
    }
   ],
   "source": [
    "# ptt 八卦版 滿18歲\n",
    "import requests\n",
    "from bs4 import BeautifulSoup\n",
    "payload = {\n",
    "    \"from\":\"/bbs/Gossiping/index.html\",\n",
    "    \"yes\":\"yes\"\n",
    "}\n",
    "rs = requests.session()\n",
    "res = rs.post('https://www.ptt.cc/ask/over18', data = payload)\n",
    "res = rs.get('https://www.ptt.cc/bbs/Gossiping/index.html')\n",
    "#print(res.text)\n",
    "soup = BeautifulSoup(res.text)\n",
    "for entry in soup.select('.r-ent'):\n",
    "    print('{0} {1} {2}'.format(entry.select('.title')[0].text.encode('utf8').strip(), entry.select('.date')[0].text, \n",
    "                               entry.select('.author')[0].text))"
   ]
  },
  {
   "cell_type": "code",
   "execution_count": 97,
   "metadata": {
    "collapsed": false
   },
   "outputs": [
    {
     "name": "stdout",
     "output_type": "stream",
     "text": [
      "{u'data': [[1452384000000L, 0.9148], [1452297600000L, 0.9148], [1452211200000L, 0.9183], [1452124800000L, 0.923], [1452038400000L, 0.9301], [1451952000000L, 0.927], [1451865600000L, 0.9202], [1451779200000L, 0.9199], [1451692800000L, 0.9199], [1451606400000L, 0.9199], [1451520000000L, 0.9168], [1451433600000L, 0.9152], [1451347200000L, 0.9124], [1451260800000L, 0.9112], [1451174400000L, 0.912], [1451088000000L, 0.912], [1451001600000L, 0.912], [1450915200000L, 0.914], [1450828800000L, 0.9152], [1450742400000L, 0.9145], [1450656000000L, 0.9189], [1450569600000L, 0.9199], [1450483200000L, 0.9199], [1450396800000L, 0.9226], [1450310400000L, 0.9215], [1450224000000L, 0.9144], [1450137600000L, 0.9101], [1450051200000L, 0.9105], [1449964800000L, 0.9093]]}\n"
     ]
    }
   ],
   "source": [
    "# 從oanda的圖表抓匯率資料\n",
    "import requests\n",
    "import re\n",
    "import json\n",
    "res = requests.get('http://www.oanda.com/currency/historical-rates/')\n",
    "m = re.search('(\"data\":\\[\\[.*\\]\\])',res.text)\n",
    "data = json.loads(\"{\" + m.group(1) + \"}\")\n",
    "print(data)"
   ]
  },
  {
   "cell_type": "code",
   "execution_count": 12,
   "metadata": {
    "collapsed": false
   },
   "outputs": [
    {
     "name": "stdout",
     "output_type": "stream",
     "text": [
      "{\n",
      "  \"cookies\": {\n",
      "    \"sessioncookie\": \"123456789\"\n",
      "  }\n",
      "}\n",
      "\n"
     ]
    }
   ],
   "source": [
    "import requests\n",
    "rs = requests.Session()\n",
    "rs.get('http://httpbin.org/cookies/set/sessioncookie/123456789')\n",
    "r = rs.get('http://httpbin.org/cookies')\n",
    "print(r.text)"
   ]
  },
  {
   "cell_type": "code",
   "execution_count": 41,
   "metadata": {
    "collapsed": false
   },
   "outputs": [],
   "source": [
    "# 如何簡單突破Captcha \n",
    "# 國際貿易局 出進口廠商管理系統\n",
    "import requests\n",
    "import shutil\n",
    "rs = requests.session()\n",
    "head = { 'User-Agent':\"Mozilla/5.0 (Windows NT 6.1; WOW64; rv:43.0) Gecko/20100101 Firefox/43.0\" }\n",
    "res = rs.get('http://fbfh.trade.gov.tw/rich/text/common/code_98/CheckImageCode.aspx', stream = True, verify = False, headers = head)\n",
    "f = open('check.png', 'wb')\n",
    "shutil.copyfileobj(res.raw, f)\n",
    "f.close()"
   ]
  },
  {
   "cell_type": "code",
   "execution_count": 42,
   "metadata": {
    "collapsed": false
   },
   "outputs": [
    {
     "data": {
      "image/png": "[encoded data removed]",
      "text/plain": [
       "<IPython.core.display.Image object>"
      ]
     },
     "execution_count": 42,
     "metadata": {},
     "output_type": "execute_result"
    }
   ],
   "source": [
    "from IPython.display import Image\n",
    "Image('check.png')"
   ]
  },
  {
   "cell_type": "code",
   "execution_count": 44,
   "metadata": {
    "collapsed": false
   },
   "outputs": [],
   "source": [
    "import requests\n",
    "payload = {\n",
    "    'queryType':\"C\",\n",
    "    'basic_select':\"2\",\n",
    "    'chinese_name':\"台北\",\n",
    "    'ccc_select':\"1\",\n",
    "    'pname_select':\"1\",\n",
    "    'txtCheckCode':\"hrcyd8\"\n",
    "}\n",
    "res = rs.post('http://fbfh.trade.gov.tw/rich/text/fbj/asp/fbje140L.asp', data = payload, verify = False)\n",
    "res.encoding = 'utf-8'\n",
    "#print(res.text)"
   ]
  },
  {
   "cell_type": "code",
   "execution_count": 3,
   "metadata": {
    "collapsed": false
   },
   "outputs": [
    {
     "name": "stdout",
     "output_type": "stream",
     "text": [
      "[u'count', u'region', u'recom', u'broker', u'community', u'main', u'page', u'left']\n"
     ]
    }
   ],
   "source": [
    "# 如果抓取 591租屋網的資料 (換頁)\n",
    "# 看網路->XHR/documents的內容\n",
    "import requests\n",
    "import json\n",
    "res = requests.get('http://rent.591.com.tw/index.php?module=search&action=rslist&is_new_list=1&type=1&searchtype=1&region=1&section=8&orderType=desc&firstRow=20&totalRows=945')\n",
    "data = json.loads(res.text)\n",
    "print(data.keys())\n",
    "#print(data['main'])"
   ]
  }
 ],
 "metadata": {
  "kernelspec": {
   "display_name": "Python 2",
   "language": "python",
   "name": "python2"
  },
  "language_info": {
   "codemirror_mode": {
    "name": "ipython",
    "version": 2
   },
   "file_extension": ".py",
   "mimetype": "text/x-python",
   "name": "python",
   "nbconvert_exporter": "python",
   "pygments_lexer": "ipython2",
   "version": "2.7.5"
  }
 },
 "nbformat": 4,
 "nbformat_minor": 0
}
